{
 "cells": [
  {
   "cell_type": "markdown",
   "id": "36a8870c",
   "metadata": {},
   "source": [
    "# Input output"
   ]
  },
  {
   "cell_type": "code",
   "execution_count": null,
   "id": "f236a3ea",
   "metadata": {},
   "outputs": [],
   "source": [
    "print(\"Ciao mondo\")"
   ]
  },
  {
   "cell_type": "code",
   "execution_count": 2,
   "id": "6c55050d",
   "metadata": {},
   "outputs": [
    {
     "name": "stdout",
     "output_type": "stream",
     "text": [
      "5\n"
     ]
    }
   ],
   "source": [
    "print(5)\n"
   ]
  },
  {
   "cell_type": "code",
   "execution_count": 4,
   "id": "cb3f1f8d",
   "metadata": {},
   "outputs": [
    {
     "name": "stdout",
     "output_type": "stream",
     "text": [
      "0.5\n"
     ]
    }
   ],
   "source": [
    "print(0.5)"
   ]
  },
  {
   "cell_type": "code",
   "execution_count": 3,
   "id": "02b27b34",
   "metadata": {},
   "outputs": [
    {
     "name": "stdout",
     "output_type": "stream",
     "text": [
      "False\n"
     ]
    }
   ],
   "source": [
    "print(False)"
   ]
  },
  {
   "cell_type": "code",
   "execution_count": 5,
   "id": "eb57f186",
   "metadata": {},
   "outputs": [
    {
     "name": "stdout",
     "output_type": "stream",
     "text": [
      "8\n"
     ]
    }
   ],
   "source": [
    "print(5+3)"
   ]
  },
  {
   "cell_type": "code",
   "execution_count": null,
   "id": "ca8bf381",
   "metadata": {},
   "outputs": [],
   "source": [
    "print(5-2)"
   ]
  },
  {
   "cell_type": "code",
   "execution_count": null,
   "id": "dada613a",
   "metadata": {},
   "outputs": [],
   "source": [
    "print(5/2)"
   ]
  },
  {
   "cell_type": "code",
   "execution_count": null,
   "id": "7dfe6ea2",
   "metadata": {},
   "outputs": [],
   "source": [
    "print(5*2)"
   ]
  },
  {
   "cell_type": "code",
   "execution_count": 6,
   "id": "913b5cea",
   "metadata": {},
   "outputs": [
    {
     "name": "stdout",
     "output_type": "stream",
     "text": [
      "25\n"
     ]
    }
   ],
   "source": [
    "print(5**2)"
   ]
  },
  {
   "cell_type": "code",
   "execution_count": null,
   "id": "81061c7f",
   "metadata": {},
   "outputs": [],
   "source": [
    "print(5%2)"
   ]
  },
  {
   "cell_type": "code",
   "execution_count": 10,
   "id": "fe3bf591",
   "metadata": {},
   "outputs": [
    {
     "name": "stdout",
     "output_type": "stream",
     "text": [
      "Come ti chiami? Lorenzo\n"
     ]
    }
   ],
   "source": [
    "name = input(\"Come ti chiami? \")"
   ]
  },
  {
   "cell_type": "code",
   "execution_count": 11,
   "id": "57d1822b",
   "metadata": {},
   "outputs": [
    {
     "name": "stdout",
     "output_type": "stream",
     "text": [
      "Ciao Lorenzo piacere di conoscerti\n"
     ]
    }
   ],
   "source": [
    "print(\"Ciao\",name,\"piacere di conoscerti\")"
   ]
  },
  {
   "cell_type": "code",
   "execution_count": null,
   "id": "a30d16ab",
   "metadata": {},
   "outputs": [],
   "source": []
  },
  {
   "cell_type": "markdown",
   "id": "f8564cc9",
   "metadata": {},
   "source": [
    "# Tipi di dati"
   ]
  },
  {
   "cell_type": "code",
   "execution_count": null,
   "id": "51aaf647",
   "metadata": {},
   "outputs": [],
   "source": [
    "var_int = 5 "
   ]
  },
  {
   "cell_type": "code",
   "execution_count": null,
   "id": "a3cfab9d",
   "metadata": {},
   "outputs": [],
   "source": [
    "var_float = 0.5"
   ]
  },
  {
   "cell_type": "code",
   "execution_count": 6,
   "id": "c0f685d8",
   "metadata": {},
   "outputs": [],
   "source": [
    "var_str = \"zero virgola cinque\""
   ]
  },
  {
   "cell_type": "code",
   "execution_count": 1,
   "id": "c81d36a3",
   "metadata": {
    "scrolled": true
   },
   "outputs": [
    {
     "ename": "TypeError",
     "evalue": "unsupported operand type(s) for +: 'int' and 'str'",
     "output_type": "error",
     "traceback": [
      "\u001b[0;31m---------------------------------------------------------------------------\u001b[0m",
      "\u001b[0;31mTypeError\u001b[0m                                 Traceback (most recent call last)",
      "Cell \u001b[0;32mIn[1], line 3\u001b[0m\n\u001b[1;32m      1\u001b[0m a \u001b[38;5;241m=\u001b[39m \u001b[38;5;241m1\u001b[39m \n\u001b[1;32m      2\u001b[0m b \u001b[38;5;241m=\u001b[39m \u001b[38;5;124m\"\u001b[39m\u001b[38;5;124m2\u001b[39m\u001b[38;5;124m\"\u001b[39m\n\u001b[0;32m----> 3\u001b[0m \u001b[43ma\u001b[49m\u001b[43m \u001b[49m\u001b[38;5;241;43m+\u001b[39;49m\u001b[43m \u001b[49m\u001b[43mb\u001b[49m\n",
      "\u001b[0;31mTypeError\u001b[0m: unsupported operand type(s) for +: 'int' and 'str'"
     ]
    }
   ],
   "source": [
    "a = 1 \n",
    "b = \"2\"\n",
    "a + b\n"
   ]
  },
  {
   "cell_type": "code",
   "execution_count": null,
   "id": "999c8136",
   "metadata": {},
   "outputs": [],
   "source": [
    "a = 1 \n",
    "b = 2\n",
    "\n",
    "a + b"
   ]
  },
  {
   "cell_type": "code",
   "execution_count": null,
   "id": "9ec11848",
   "metadata": {},
   "outputs": [],
   "source": [
    "a-b"
   ]
  },
  {
   "cell_type": "code",
   "execution_count": null,
   "id": "ab8f0541",
   "metadata": {},
   "outputs": [],
   "source": [
    "a*b"
   ]
  },
  {
   "cell_type": "code",
   "execution_count": null,
   "id": "7fa0dc12",
   "metadata": {},
   "outputs": [],
   "source": [
    "a/b"
   ]
  },
  {
   "cell_type": "code",
   "execution_count": null,
   "id": "af1beff6",
   "metadata": {},
   "outputs": [],
   "source": [
    "a**b"
   ]
  },
  {
   "cell_type": "code",
   "execution_count": null,
   "id": "e55720bf",
   "metadata": {},
   "outputs": [],
   "source": [
    "a%b"
   ]
  },
  {
   "cell_type": "code",
   "execution_count": null,
   "id": "e3e6ace4",
   "metadata": {},
   "outputs": [],
   "source": [
    "type(a)"
   ]
  },
  {
   "cell_type": "code",
   "execution_count": 9,
   "id": "406f2c70",
   "metadata": {},
   "outputs": [
    {
     "data": {
      "text/plain": [
       "str"
      ]
     },
     "execution_count": 9,
     "metadata": {},
     "output_type": "execute_result"
    }
   ],
   "source": [
    "type(var_str)"
   ]
  },
  {
   "cell_type": "code",
   "execution_count": 4,
   "id": "c5e1177d",
   "metadata": {},
   "outputs": [
    {
     "data": {
      "text/plain": [
       "28"
      ]
     },
     "execution_count": 4,
     "metadata": {},
     "output_type": "execute_result"
    }
   ],
   "source": [
    "from sys import getsizeof\n",
    "getsizeof(a)"
   ]
  },
  {
   "cell_type": "code",
   "execution_count": 7,
   "id": "870cc2f8",
   "metadata": {},
   "outputs": [
    {
     "data": {
      "text/plain": [
       "60"
      ]
     },
     "execution_count": 7,
     "metadata": {},
     "output_type": "execute_result"
    }
   ],
   "source": [
    "getsizeof(var_str)"
   ]
  },
  {
   "cell_type": "code",
   "execution_count": 11,
   "id": "2a382b2f",
   "metadata": {},
   "outputs": [
    {
     "data": {
      "text/plain": [
       "67"
      ]
     },
     "execution_count": 11,
     "metadata": {},
     "output_type": "execute_result"
    }
   ],
   "source": [
    "len(var_str)+49"
   ]
  },
  {
   "cell_type": "markdown",
   "id": "19899535",
   "metadata": {},
   "source": [
    "# Casting"
   ]
  },
  {
   "cell_type": "code",
   "execution_count": 12,
   "id": "7e00c0ac",
   "metadata": {},
   "outputs": [
    {
     "name": "stdout",
     "output_type": "stream",
     "text": [
      "1.0 <class 'float'>\n"
     ]
    }
   ],
   "source": [
    "var_int = 1\n",
    "\n",
    "var_float = float(var_int)\n",
    "\n",
    "print(var_float, type(var_float))"
   ]
  },
  {
   "cell_type": "code",
   "execution_count": 13,
   "id": "0ea34fb6",
   "metadata": {},
   "outputs": [
    {
     "name": "stdout",
     "output_type": "stream",
     "text": [
      "1 <class 'int'>\n"
     ]
    }
   ],
   "source": [
    "var_float = 1.8\n",
    "var_int = int(var_float)\n",
    "print(var_int, type(var_int))"
   ]
  },
  {
   "cell_type": "code",
   "execution_count": 14,
   "id": "b5eade80",
   "metadata": {},
   "outputs": [
    {
     "name": "stdout",
     "output_type": "stream",
     "text": [
      "5 <class 'str'>\n"
     ]
    }
   ],
   "source": [
    "var_int = 5\n",
    "var_str = str(var_int)\n",
    "print(var_str, type(var_str) )"
   ]
  },
  {
   "cell_type": "code",
   "execution_count": 15,
   "id": "cd63034c",
   "metadata": {},
   "outputs": [
    {
     "name": "stdout",
     "output_type": "stream",
     "text": [
      "5 <class 'str'>\n"
     ]
    }
   ],
   "source": [
    "var_str = \"5\"\n",
    "var_int = str(var_str)\n",
    "print(var_int, type(var_int) )"
   ]
  },
  {
   "cell_type": "code",
   "execution_count": 16,
   "id": "8f0e4a8b",
   "metadata": {},
   "outputs": [
    {
     "name": "stdout",
     "output_type": "stream",
     "text": [
      "cinque <class 'str'>\n"
     ]
    }
   ],
   "source": [
    "var_str = \"cinque\"\n",
    "var_int = str(var_str)\n",
    "print(var_int, type(var_int) )"
   ]
  },
  {
   "cell_type": "markdown",
   "id": "e88e587c",
   "metadata": {},
   "source": [
    "# La formattazione"
   ]
  },
  {
   "cell_type": "code",
   "execution_count": 18,
   "id": "1597e60a",
   "metadata": {},
   "outputs": [
    {
     "name": "stdout",
     "output_type": "stream",
     "text": [
      "Hai 25 anni\n"
     ]
    }
   ],
   "source": [
    "age = 25\n",
    "print(\"Hai \"+str(age)+\" anni\")"
   ]
  },
  {
   "cell_type": "code",
   "execution_count": 19,
   "id": "2d43b563",
   "metadata": {},
   "outputs": [
    {
     "name": "stdout",
     "output_type": "stream",
     "text": [
      "Hai 25 anni\n"
     ]
    }
   ],
   "source": [
    "print(\"Hai %d anni\" % age)"
   ]
  },
  {
   "cell_type": "markdown",
   "id": "12143e45",
   "metadata": {},
   "source": [
    "- %d: numero intero\n",
    "- %f: numero con la virgola\n",
    "- %s: stringa\n",
    " "
   ]
  },
  {
   "cell_type": "code",
   "execution_count": 24,
   "id": "0c17aaa4",
   "metadata": {},
   "outputs": [
    {
     "name": "stdout",
     "output_type": "stream",
     "text": [
      "Come ti chiami?lo\n",
      "Quanti anni hai?26\n"
     ]
    }
   ],
   "source": [
    "my_name = input(\"Come ti chiami?\")\n",
    "my_age = input(\"Quanti anni hai?\")\n",
    "my_age = int(my_age)\n",
    "my_born = 2025 - my_age"
   ]
  },
  {
   "cell_type": "code",
   "execution_count": 25,
   "id": "4a79d699",
   "metadata": {},
   "outputs": [
    {
     "name": "stdout",
     "output_type": "stream",
     "text": [
      "Il tuo nome e' lo, hai 26 anni, quindi sei nato nel 1999\n"
     ]
    }
   ],
   "source": [
    "print(\"Il tuo nome e' %s, hai %d anni, quindi sei nato nel %d\" %(my_name,my_age,my_born))"
   ]
  },
  {
   "cell_type": "code",
   "execution_count": 26,
   "id": "edfc46f6",
   "metadata": {},
   "outputs": [
    {
     "name": "stdout",
     "output_type": "stream",
     "text": [
      "Inserisci la tua altezza in metri: 1.78\n",
      "Inserisci il tuo peso in kg: 80\n"
     ]
    }
   ],
   "source": [
    "my_height = float(input(\"Inserisci la tua altezza in metri: \"))\n",
    "my_weight = float(input(\"Inserisci il tuo peso in kg: \"))\n"
   ]
  },
  {
   "cell_type": "code",
   "execution_count": 2,
   "id": "dc6f2458",
   "metadata": {},
   "outputs": [
    {
     "ename": "NameError",
     "evalue": "name 'my_height' is not defined",
     "output_type": "error",
     "traceback": [
      "\u001b[0;31m---------------------------------------------------------------------------\u001b[0m",
      "\u001b[0;31mNameError\u001b[0m                                 Traceback (most recent call last)",
      "Cell \u001b[0;32mIn[2], line 1\u001b[0m\n\u001b[0;32m----> 1\u001b[0m \u001b[38;5;28mprint\u001b[39m(\u001b[38;5;124m\"\u001b[39m\u001b[38;5;124mAltezza=\u001b[39m\u001b[38;5;132;01m%.2f\u001b[39;00m\u001b[38;5;124m Peso=\u001b[39m\u001b[38;5;132;01m%.1f\u001b[39;00m\u001b[38;5;124m\"\u001b[39m \u001b[38;5;241m%\u001b[39m(\u001b[43mmy_height\u001b[49m, my_weight))  \u001b[38;5;66;03m#it does the round of the number\u001b[39;00m\n",
      "\u001b[0;31mNameError\u001b[0m: name 'my_height' is not defined"
     ]
    }
   ],
   "source": [
    "print(\"Altezza=%.2f Peso=%.1f\" %(my_height, my_weight))  #it does the round of the number"
   ]
  },
  {
   "cell_type": "code",
   "execution_count": 31,
   "id": "9ed2aac2",
   "metadata": {},
   "outputs": [
    {
     "name": "stdout",
     "output_type": "stream",
     "text": [
      "Il tuo nome e' lo, hai 26 anni, quindi sei nato nel 1999\n"
     ]
    }
   ],
   "source": [
    "print(\"Il tuo nome e' {name}, hai {age} anni, quindi sei nato nel {born}\"\n",
    "     .format(name=my_name, age=my_age, born=my_born))"
   ]
  },
  {
   "cell_type": "code",
   "execution_count": 34,
   "id": "b5564af3",
   "metadata": {},
   "outputs": [
    {
     "name": "stdout",
     "output_type": "stream",
     "text": [
      "Altezza=1.8 Peso=80\n"
     ]
    }
   ],
   "source": [
    "print(\"Altezza={height:.1f} Peso={weight:.0f}\"\n",
    "      .format(height=my_height, weight=my_weight))  #it does the round of the number"
   ]
  },
  {
   "cell_type": "code",
   "execution_count": 36,
   "id": "9633ba04",
   "metadata": {},
   "outputs": [
    {
     "name": "stdout",
     "output_type": "stream",
     "text": [
      "Il tuo nome e' lo, hai 26 anni, quindi sei nato nel 1999\n"
     ]
    }
   ],
   "source": [
    "print(f\"Il tuo nome e' {my_name}, hai {my_age} anni, quindi sei nato nel {my_born}\")"
   ]
  },
  {
   "cell_type": "code",
   "execution_count": 38,
   "id": "4dec39e2",
   "metadata": {},
   "outputs": [
    {
     "name": "stdout",
     "output_type": "stream",
     "text": [
      "Altezza=1.8 Peso=80\n"
     ]
    }
   ],
   "source": [
    "print(f\"Altezza={my_height:.1f} Peso={my_weight:.0f}\")"
   ]
  },
  {
   "cell_type": "markdown",
   "id": "bb305c4d",
   "metadata": {},
   "source": [
    "# Esercizi con le Variabili\n"
   ]
  },
  {
   "cell_type": "markdown",
   "id": "f918a0a8",
   "metadata": {},
   "source": [
    "1 Operazioni Aritmetiche [Esercizio su HackerRank]\n",
    "\n",
    "    Inserisci due interi come input e stampa:\n",
    "\n",
    "    1. La somma dei due numeri.\n",
    "    2. La differenza tra i due numeri (primo - secondo).\n",
    "    3. Il prodotto tra i due numeri.\n"
   ]
  },
  {
   "cell_type": "code",
   "execution_count": 1,
   "id": "5298c912",
   "metadata": {},
   "outputs": [
    {
     "name": "stdout",
     "output_type": "stream",
     "text": [
      "2\n",
      "4\n",
      "6\n",
      "-2\n",
      "8\n"
     ]
    }
   ],
   "source": [
    "a = int(input())\n",
    "b = int(input())\n",
    "\n",
    "print(a+b)\n",
    "print(a-b)\n",
    "print(a*b)"
   ]
  },
  {
   "cell_type": "markdown",
   "id": "009ada19",
   "metadata": {},
   "source": [
    "\n",
    "2. Divisioni [Esercizio su HackerRank]\n",
    "\n",
    "Leggi due interi come input e stampa:\n",
    "\n",
    "    1. il risultato della divisione tra a e b come un numero intero\n",
    "    2. il risultato della divisione tra a e b come un numero con la virgola\n",
    "\n"
   ]
  },
  {
   "cell_type": "code",
   "execution_count": 3,
   "id": "b27bdc62",
   "metadata": {},
   "outputs": [
    {
     "name": "stdout",
     "output_type": "stream",
     "text": [
      "1\n",
      "4\n",
      "0\n",
      "0.25\n"
     ]
    }
   ],
   "source": [
    "a = int(input())\n",
    "b = int(input())\n",
    "\n",
    "print(a//b)\n",
    "print(a/b)"
   ]
  },
  {
   "cell_type": "markdown",
   "id": "43eeed43",
   "metadata": {},
   "source": [
    "3. Potenze e Modulo\n",
    "\n",
    "Leggi un float e un intero come input e stampa:\n",
    "\n",
    "    1. Il primo numero elevato al secondo.\n",
    "    2. Il modulo del primo numero per il secondo.\n",
    "\n",
    "All'interno del print inserisci anche l'operazione che stai eseguendo\n",
    "\n",
    "esempio di output\n",
    "3**2=9\n",
    "3%1=1"
   ]
  },
  {
   "cell_type": "code",
   "execution_count": 4,
   "id": "27e7c42d",
   "metadata": {},
   "outputs": [
    {
     "name": "stdout",
     "output_type": "stream",
     "text": [
      "4\n",
      "6\n",
      "4096\n",
      "4\n"
     ]
    }
   ],
   "source": [
    "a = int(input())\n",
    "b = int(input())\n",
    "\n",
    "print(a**b)\n",
    "print(a%b)"
   ]
  },
  {
   "cell_type": "markdown",
   "id": "04f3f0b7",
   "metadata": {},
   "source": [
    "4 Swapping\n",
    "Lo swapping consiste nell'invertire il valore di due variabili.\n",
    "\n",
    "    1. Prendi in input due valori e assegnali a due variabili A e B.\n",
    "    2. Stampa le variabili su schermo.\n",
    "    3. Assegna il valore di A a B e il valore di B ad A.\n",
    "    4. Stampa le variabili su schermo.\n"
   ]
  },
  {
   "cell_type": "code",
   "execution_count": 5,
   "id": "721d3910",
   "metadata": {},
   "outputs": [
    {
     "name": "stdout",
     "output_type": "stream",
     "text": [
      "7\n",
      "8\n",
      "A=8, B=7\n"
     ]
    }
   ],
   "source": [
    "a = int(input())\n",
    "b = int(input())\n",
    "\n",
    "c = b\n",
    "b = a\n",
    "a = c\n",
    "\n",
    "print(f\"A={a}, B={b}\")"
   ]
  },
  {
   "cell_type": "markdown",
   "id": "192797a7",
   "metadata": {},
   "source": [
    "\n",
    "BONUS\n",
    "\n",
    "In python possiamo eseguire lo swapping senza aver bisogno di una terza variabile temporanea.\n"
   ]
  },
  {
   "cell_type": "code",
   "execution_count": 6,
   "id": "7a3c1e26",
   "metadata": {},
   "outputs": [
    {
     "name": "stdout",
     "output_type": "stream",
     "text": [
      "4\n",
      "6\n",
      "A=6, B=4\n"
     ]
    }
   ],
   "source": [
    "a = int(input())\n",
    "b = int(input())\n",
    "\n",
    "a, b = b, a\n",
    "\n",
    "print(f\"A={a}, B={b}\")\n"
   ]
  },
  {
   "cell_type": "markdown",
   "id": "c644ca88",
   "metadata": {},
   "source": [
    "5. Casting e Formattazione\n",
    "\n",
    "Scriviamo un programma che richieda i tuoi dati e li stampi su schermo, i dati che il programma deve richiedere sono:\n",
    "\n",
    "    1. Nome e Cognome\n",
    "    2. Anno di nascita\n",
    "    3. Luogo di Nascita\n",
    "    4. Altezza (in metri)\n",
    "    5. Peso (in kilogrammi)\n",
    "\n",
    "Infine il programma dovrà stampare tutte queste informazione, con altezza e peso arrotondate a 2 cifre dopo la virgola, insieme all'età della persona. \n",
    "\n",
    "ESEMPIO DI INPUT\n",
    "\n",
    "    Nome: Giuseppe Gullo\n",
    "    Anno di nascita: 1938\n",
    "    Luogi di nascita: Taormina\n",
    "    Altezza (m): 1.75\n",
    "    Peso (kg): 71.5\n",
    "\n",
    "ESEMPIO DI OUTPUT\n",
    "\"Giuseppe Gullo, 81 anni, nato a Taormina nel 1938, altezza: 1.75 m, peso: 71.50 kg\"\n",
    "\n",
    "SUGGERIMENTI\n",
    "\n",
    " 1. La funzione input ritorna sempre una stringa, quindi se vogliamo dei numeri dobbiamo eseguire il casting.\n",
    "   2. Possiamo arrotondare una cifra usando l'operatore di formattazione %.Nf, dove al posto di N dobbiamo inserire il numero di cifre dopo la virgola.\n",
    "   3. Se invece utilizzi il metodo format, puoi arrotondare una cifra usando come placeholder {my_var:.{digits}f} dove my_var è il placeholder della tua variabile e digits è il placeholder per il numero di cifre dopo la virgola.\n"
   ]
  },
  {
   "cell_type": "code",
   "execution_count": 7,
   "id": "b5e31623",
   "metadata": {},
   "outputs": [
    {
     "name": "stdout",
     "output_type": "stream",
     "text": [
      "Nome: lorenzo\n",
      "Anno di nascita: 1999\n",
      "Luogo di nascita: bolo\n",
      "Altezza (m): 180\n",
      "Peso (kg): 75\n",
      "lorenzo, 20 anni, nato a bolo nel 1999, altezza: 180.00 m, peso: 75.00 kg\n",
      "lorenzo, 20 anni, nato a bolo nel 1999, altezza: 180.00 m, peso: 75.00 kg\n",
      "lorenzo, 20 anni, nato a bolo nel 1999, altezza: 180.00 m, peso: 75.00 kg\n"
     ]
    }
   ],
   "source": [
    "CURRENT_YEAR = 2019\n",
    "\n",
    "name = input(\"Nome: \")\n",
    "year = int(input(\"Anno di nascita: \"))\n",
    "place = input(\"Luogo di nascita: \")\n",
    "height = float(input(\"Altezza (m): \"))\n",
    "weight = float(input(\"Peso (kg): \"))\n",
    "\n",
    "age = CURRENT_YEAR - year\n",
    "\n",
    "# soluzione 1\n",
    "print(\"%s, %d anni, nato a %s nel %d, altezza: %.2f m, peso: %.2f kg\" % (name, age, place, year, height, weight))\n",
    "\n",
    "# soluzione 2\n",
    "print(\"{my_name}, {my_age} anni, nato a {my_place} nel {my_year}, altezza: {my_height:.{height_digits}f} m, peso: {my_weight:.{weight_digits}f} kg\".format(my_name=name, my_age=age, my_place=place, my_year=year, my_height=height, height_digits=2, my_weight=weight, weight_digits=2))\n",
    "\n",
    "# soluzione 3\n",
    "digits = 2\n",
    "print(f\"{name}, {age} anni, nato a {place} nel {year}, altezza: {height:.{digits}f} m, peso: {weight:.{digits}f} kg\")\n"
   ]
  },
  {
   "cell_type": "code",
   "execution_count": null,
   "id": "b57c757b",
   "metadata": {},
   "outputs": [],
   "source": []
  },
  {
   "cell_type": "markdown",
   "id": "9114b547",
   "metadata": {},
   "source": [
    "# Le Liste"
   ]
  },
  {
   "cell_type": "code",
   "execution_count": 10,
   "id": "3d7750eb",
   "metadata": {},
   "outputs": [
    {
     "name": "stdout",
     "output_type": "stream",
     "text": [
      "<class 'list'>\n"
     ]
    }
   ],
   "source": [
    "l = [1, 2, 3, 5, 8, 13, 21 ]\n",
    "print(type(l))"
   ]
  },
  {
   "cell_type": "code",
   "execution_count": 11,
   "id": "6cb49508",
   "metadata": {},
   "outputs": [
    {
     "data": {
      "text/plain": [
       "[1, 2, 3, 5, 8, 13, 21]"
      ]
     },
     "execution_count": 11,
     "metadata": {},
     "output_type": "execute_result"
    }
   ],
   "source": [
    "l"
   ]
  },
  {
   "cell_type": "code",
   "execution_count": null,
   "id": "a85ece4f",
   "metadata": {},
   "outputs": [],
   "source": [
    "word_list = [\"cane\", \"gatto\", \"topo\"]\n",
    "word_list\n",
    "\n",
    "\n"
   ]
  },
  {
   "cell_type": "code",
   "execution_count": 12,
   "id": "87e80fd4",
   "metadata": {},
   "outputs": [
    {
     "data": {
      "text/plain": [
       "[0, 'patate', True]"
      ]
     },
     "execution_count": 12,
     "metadata": {},
     "output_type": "execute_result"
    }
   ],
   "source": [
    "weird_list = [0, \"patate\", True]\n",
    "weird_list\n"
   ]
  },
  {
   "cell_type": "markdown",
   "id": "51ee26da",
   "metadata": {},
   "source": [
    "### Indexing"
   ]
  },
  {
   "cell_type": "code",
   "execution_count": 14,
   "id": "42154d21",
   "metadata": {},
   "outputs": [],
   "source": [
    "l = [1, 2, 3, 5, 8, 13, 21 ]\n"
   ]
  },
  {
   "cell_type": "code",
   "execution_count": 15,
   "id": "d425ce55",
   "metadata": {},
   "outputs": [
    {
     "data": {
      "text/plain": [
       "1"
      ]
     },
     "execution_count": 15,
     "metadata": {},
     "output_type": "execute_result"
    }
   ],
   "source": [
    "l[0]"
   ]
  },
  {
   "cell_type": "code",
   "execution_count": 16,
   "id": "3b6f8dbf",
   "metadata": {},
   "outputs": [
    {
     "data": {
      "text/plain": [
       "2"
      ]
     },
     "execution_count": 16,
     "metadata": {},
     "output_type": "execute_result"
    }
   ],
   "source": [
    "l[1]"
   ]
  },
  {
   "cell_type": "code",
   "execution_count": 17,
   "id": "422c4475",
   "metadata": {},
   "outputs": [
    {
     "data": {
      "text/plain": [
       "8"
      ]
     },
     "execution_count": 17,
     "metadata": {},
     "output_type": "execute_result"
    }
   ],
   "source": [
    "l[4]"
   ]
  },
  {
   "cell_type": "code",
   "execution_count": 18,
   "id": "c87151d0",
   "metadata": {},
   "outputs": [
    {
     "data": {
      "text/plain": [
       "21"
      ]
     },
     "execution_count": 18,
     "metadata": {},
     "output_type": "execute_result"
    }
   ],
   "source": [
    "l[-1] # ultimo elemento"
   ]
  },
  {
   "cell_type": "code",
   "execution_count": 19,
   "id": "16c66531",
   "metadata": {},
   "outputs": [
    {
     "data": {
      "text/plain": [
       "8"
      ]
     },
     "execution_count": 19,
     "metadata": {},
     "output_type": "execute_result"
    }
   ],
   "source": [
    "l[-3]\n"
   ]
  },
  {
   "cell_type": "code",
   "execution_count": 22,
   "id": "c1c9ea17",
   "metadata": {},
   "outputs": [
    {
     "data": {
      "text/plain": [
       "int"
      ]
     },
     "execution_count": 22,
     "metadata": {},
     "output_type": "execute_result"
    }
   ],
   "source": [
    "type(l[-3])"
   ]
  },
  {
   "cell_type": "markdown",
   "id": "991a8ab3",
   "metadata": {},
   "source": [
    "### Slicing"
   ]
  },
  {
   "cell_type": "code",
   "execution_count": 20,
   "id": "8d4c2d58",
   "metadata": {},
   "outputs": [
    {
     "data": {
      "text/plain": [
       "[8, 13]"
      ]
     },
     "execution_count": 20,
     "metadata": {},
     "output_type": "execute_result"
    }
   ],
   "source": [
    "l[4:6]"
   ]
  },
  {
   "cell_type": "code",
   "execution_count": 21,
   "id": "112bfc6d",
   "metadata": {},
   "outputs": [
    {
     "data": {
      "text/plain": [
       "[1, 2, 3, 5, 8, 13, 21]"
      ]
     },
     "execution_count": 21,
     "metadata": {},
     "output_type": "execute_result"
    }
   ],
   "source": [
    "l"
   ]
  },
  {
   "cell_type": "code",
   "execution_count": 23,
   "id": "168ed1a1",
   "metadata": {},
   "outputs": [
    {
     "data": {
      "text/plain": [
       "list"
      ]
     },
     "execution_count": 23,
     "metadata": {},
     "output_type": "execute_result"
    }
   ],
   "source": [
    "type(l[4:6])"
   ]
  },
  {
   "cell_type": "code",
   "execution_count": 24,
   "id": "4cf62165",
   "metadata": {},
   "outputs": [
    {
     "data": {
      "text/plain": [
       "[1, 2, 3]"
      ]
     },
     "execution_count": 24,
     "metadata": {},
     "output_type": "execute_result"
    }
   ],
   "source": [
    "l[:3]"
   ]
  },
  {
   "cell_type": "code",
   "execution_count": 25,
   "id": "2bf080aa",
   "metadata": {},
   "outputs": [
    {
     "data": {
      "text/plain": [
       "[5, 8, 13, 21]"
      ]
     },
     "execution_count": 25,
     "metadata": {},
     "output_type": "execute_result"
    }
   ],
   "source": [
    "l[3:]"
   ]
  },
  {
   "cell_type": "code",
   "execution_count": 26,
   "id": "3bcdf69a",
   "metadata": {},
   "outputs": [
    {
     "data": {
      "text/plain": [
       "[1, 2, 3, 5, 8, 13, 21]"
      ]
     },
     "execution_count": 26,
     "metadata": {},
     "output_type": "execute_result"
    }
   ],
   "source": [
    "l[:]"
   ]
  },
  {
   "cell_type": "code",
   "execution_count": 27,
   "id": "bc69e42f",
   "metadata": {},
   "outputs": [
    {
     "data": {
      "text/plain": [
       "[13, 21]"
      ]
     },
     "execution_count": 27,
     "metadata": {},
     "output_type": "execute_result"
    }
   ],
   "source": [
    "l[-2:] # accedo da fine lista"
   ]
  },
  {
   "cell_type": "code",
   "execution_count": 28,
   "id": "f65cd885",
   "metadata": {},
   "outputs": [
    {
     "data": {
      "text/plain": [
       "[1, 2, 3, 5, 8, 13, 21]"
      ]
     },
     "execution_count": 28,
     "metadata": {},
     "output_type": "execute_result"
    }
   ],
   "source": [
    "l[::1]"
   ]
  },
  {
   "cell_type": "code",
   "execution_count": 29,
   "id": "a2e2a10d",
   "metadata": {},
   "outputs": [
    {
     "data": {
      "text/plain": [
       "[21, 13, 8, 5, 3, 2, 1]"
      ]
     },
     "execution_count": 29,
     "metadata": {},
     "output_type": "execute_result"
    }
   ],
   "source": [
    "l[::-1]  # Invertire valori lista "
   ]
  },
  {
   "cell_type": "code",
   "execution_count": 30,
   "id": "afbda0e7",
   "metadata": {},
   "outputs": [
    {
     "data": {
      "text/plain": [
       "[21, 13, 8]"
      ]
     },
     "execution_count": 30,
     "metadata": {},
     "output_type": "execute_result"
    }
   ],
   "source": [
    "l[:3:-1]"
   ]
  },
  {
   "cell_type": "markdown",
   "id": "e159b0c3",
   "metadata": {},
   "source": [
    "# Modifica e verifica "
   ]
  },
  {
   "cell_type": "code",
   "execution_count": 31,
   "id": "eaf18ac8",
   "metadata": {},
   "outputs": [],
   "source": [
    "l = [1, 2, 3, 5, 8, 13, 21 ]"
   ]
  },
  {
   "cell_type": "code",
   "execution_count": 32,
   "id": "b1863f77",
   "metadata": {},
   "outputs": [],
   "source": [
    "l[4] = 10"
   ]
  },
  {
   "cell_type": "code",
   "execution_count": 33,
   "id": "981b0ef6",
   "metadata": {},
   "outputs": [
    {
     "data": {
      "text/plain": [
       "[1, 2, 3, 5, 10, 13, 21]"
      ]
     },
     "execution_count": 33,
     "metadata": {},
     "output_type": "execute_result"
    }
   ],
   "source": [
    "l"
   ]
  },
  {
   "cell_type": "code",
   "execution_count": 34,
   "id": "5a30ca31",
   "metadata": {},
   "outputs": [],
   "source": [
    "l[:2] = [90,100]"
   ]
  },
  {
   "cell_type": "code",
   "execution_count": 35,
   "id": "b41e063b",
   "metadata": {},
   "outputs": [
    {
     "data": {
      "text/plain": [
       "[90, 100, 3, 5, 10, 13, 21]"
      ]
     },
     "execution_count": 35,
     "metadata": {},
     "output_type": "execute_result"
    }
   ],
   "source": [
    "l"
   ]
  },
  {
   "cell_type": "code",
   "execution_count": 47,
   "id": "1a308dc1",
   "metadata": {},
   "outputs": [],
   "source": [
    "subjects = [\"storia\", \"geografia\", \"matematica\"]"
   ]
  },
  {
   "cell_type": "code",
   "execution_count": 48,
   "id": "6c5d99e5",
   "metadata": {},
   "outputs": [
    {
     "data": {
      "text/plain": [
       "['storia', 'geografia', 'matematica', 'fisica']"
      ]
     },
     "execution_count": 48,
     "metadata": {},
     "output_type": "execute_result"
    }
   ],
   "source": [
    "subjects.append(\"fisica\")\n",
    "\n",
    "subjects"
   ]
  },
  {
   "cell_type": "code",
   "execution_count": 49,
   "id": "2b17c291",
   "metadata": {},
   "outputs": [
    {
     "data": {
      "text/plain": [
       "['storia', 'geografia', 'biologia', 'matematica', 'fisica']"
      ]
     },
     "execution_count": 49,
     "metadata": {},
     "output_type": "execute_result"
    }
   ],
   "source": [
    "subjects.insert(2, \"biologia\")\n",
    "subjects"
   ]
  },
  {
   "cell_type": "code",
   "execution_count": 50,
   "id": "12dfb3e1",
   "metadata": {},
   "outputs": [
    {
     "data": {
      "text/plain": [
       "['storia', 'biologia', 'matematica', 'fisica']"
      ]
     },
     "execution_count": 50,
     "metadata": {},
     "output_type": "execute_result"
    }
   ],
   "source": [
    "subjects.remove(\"geografia\")\n",
    "subjects"
   ]
  },
  {
   "cell_type": "code",
   "execution_count": 51,
   "id": "0b5b9395",
   "metadata": {},
   "outputs": [
    {
     "name": "stdout",
     "output_type": "stream",
     "text": [
      "storia ['biologia', 'matematica', 'fisica']\n"
     ]
    }
   ],
   "source": [
    "subject = subjects.pop(0)\n",
    "print(subject, subjects)"
   ]
  },
  {
   "cell_type": "markdown",
   "id": "b7b328c2",
   "metadata": {},
   "source": [
    "### Verifica se elemento presente"
   ]
  },
  {
   "cell_type": "code",
   "execution_count": 52,
   "id": "90666acf",
   "metadata": {},
   "outputs": [
    {
     "data": {
      "text/plain": [
       "True"
      ]
     },
     "execution_count": 52,
     "metadata": {},
     "output_type": "execute_result"
    }
   ],
   "source": [
    "\"matematica\" in subjects"
   ]
  },
  {
   "cell_type": "code",
   "execution_count": 53,
   "id": "75d24810",
   "metadata": {},
   "outputs": [
    {
     "data": {
      "text/plain": [
       "False"
      ]
     },
     "execution_count": 53,
     "metadata": {},
     "output_type": "execute_result"
    }
   ],
   "source": [
    "\"filosofia\" in subjects"
   ]
  },
  {
   "cell_type": "code",
   "execution_count": 54,
   "id": "47494f8d",
   "metadata": {},
   "outputs": [],
   "source": [
    "subjects.append(\"biologia\")\n"
   ]
  },
  {
   "cell_type": "code",
   "execution_count": 55,
   "id": "cff13592",
   "metadata": {},
   "outputs": [
    {
     "data": {
      "text/plain": [
       "0"
      ]
     },
     "execution_count": 55,
     "metadata": {},
     "output_type": "execute_result"
    }
   ],
   "source": [
    "subjects.index(\"biologia\")"
   ]
  },
  {
   "cell_type": "code",
   "execution_count": 56,
   "id": "10a8d8e1",
   "metadata": {},
   "outputs": [
    {
     "data": {
      "text/plain": [
       "2"
      ]
     },
     "execution_count": 56,
     "metadata": {},
     "output_type": "execute_result"
    }
   ],
   "source": [
    "subjects.count(\"biologia\")"
   ]
  },
  {
   "cell_type": "code",
   "execution_count": 57,
   "id": "5e301963",
   "metadata": {},
   "outputs": [
    {
     "data": {
      "text/plain": [
       "0"
      ]
     },
     "execution_count": 57,
     "metadata": {},
     "output_type": "execute_result"
    }
   ],
   "source": [
    "subjects.count(\"filosofia\")"
   ]
  },
  {
   "cell_type": "markdown",
   "id": "847ddec3",
   "metadata": {},
   "source": [
    "### Liste annidate\n"
   ]
  },
  {
   "cell_type": "markdown",
   "id": "8718c0e6",
   "metadata": {},
   "source": [
    "Un collezione può contenere anche un'altra collezione, sia dello stesso tipo che di altri tipi."
   ]
  },
  {
   "cell_type": "code",
   "execution_count": 58,
   "id": "5d363810",
   "metadata": {},
   "outputs": [
    {
     "name": "stdout",
     "output_type": "stream",
     "text": [
      "[['Italiano', 'Storia', 'Matematica', 'Matematica', 'Geografia', 'Filosofia'], ['Latino', 'Latino', 'Matematica', 'Italiano', 'Italiano', 'Educazione Fisica'], ['Italiano', 'Inglese', 'Matematica', 'Filosofia', 'Filosofia', 'Latino'], ['Filosofia', 'Italiano', 'Matematica', 'Matematica', 'Inglese', 'Chimica'], ['Educazione Fisica', 'Filosofia', 'Latino', 'Latino', 'Storia', 'Italiano']]\n"
     ]
    }
   ],
   "source": [
    "subjects_week = [\n",
    "                 [\"Italiano\", \"Storia\", \"Matematica\", \"Matematica\", \"Geografia\", \"Filosofia\"], # orario di lunedì\n",
    "                 [\"Latino\", \"Latino\", \"Matematica\", \"Italiano\", \"Italiano\", \"Educazione Fisica\"], # orario di marted'\n",
    "                 [\"Italiano\", \"Inglese\", \"Matematica\", \"Filosofia\", \"Filosofia\", \"Latino\"], # orario di mercoledì\n",
    "                 [\"Filosofia\", \"Italiano\", \"Matematica\", \"Matematica\", \"Inglese\", \"Chimica\"], # orario di giovedì\n",
    "                 [\"Educazione Fisica\", \"Filosofia\", \"Latino\", \"Latino\", \"Storia\", \"Italiano\"] # orario di venerdì\n",
    "                ] # sabato vacanza \n",
    "\n",
    "print(subjects_week)"
   ]
  },
  {
   "cell_type": "code",
   "execution_count": 59,
   "id": "53f98742",
   "metadata": {},
   "outputs": [
    {
     "data": {
      "text/plain": [
       "['Italiano', 'Inglese', 'Matematica', 'Filosofia', 'Filosofia', 'Latino']"
      ]
     },
     "execution_count": 59,
     "metadata": {},
     "output_type": "execute_result"
    }
   ],
   "source": [
    "\n",
    "\n",
    "subjects_week[2]\n",
    "\n"
   ]
  },
  {
   "cell_type": "code",
   "execution_count": 60,
   "id": "d6f11db9",
   "metadata": {},
   "outputs": [
    {
     "data": {
      "text/plain": [
       "'Filosofia'"
      ]
     },
     "execution_count": 60,
     "metadata": {},
     "output_type": "execute_result"
    }
   ],
   "source": [
    "\n",
    "\n",
    "subjects_week[2][3]\n",
    "\n"
   ]
  },
  {
   "cell_type": "markdown",
   "id": "16d5855c",
   "metadata": {},
   "source": [
    "# Le Tuple"
   ]
  },
  {
   "cell_type": "markdown",
   "id": "ba744db9",
   "metadata": {},
   "source": [
    "La tupla è un tipo di dati molto simile alla lista, la differenza principale è che una tupla una volta creata non può essere modificata, inoltre, a differenza delle liste, la tupla è idonea a contenere diversi tipi di dati. Possiamo creare una tupla inserendo gli elementi tra parentesi tonde e separandoli con una virgola."
   ]
  },
  {
   "cell_type": "code",
   "execution_count": 61,
   "id": "147b7cff",
   "metadata": {},
   "outputs": [
    {
     "name": "stdout",
     "output_type": "stream",
     "text": [
      "(1, 2, 3, 5, 8, 13, 21) <class 'tuple'>\n"
     ]
    }
   ],
   "source": [
    "t = (1, 2 ,3 ,5 ,8 ,13 ,21)\n",
    "print(t, type(t))"
   ]
  },
  {
   "cell_type": "code",
   "execution_count": 62,
   "id": "6c230dcf",
   "metadata": {},
   "outputs": [
    {
     "data": {
      "text/plain": [
       "3"
      ]
     },
     "execution_count": 62,
     "metadata": {},
     "output_type": "execute_result"
    }
   ],
   "source": [
    "t[2]"
   ]
  },
  {
   "cell_type": "code",
   "execution_count": 63,
   "id": "112b6dc7",
   "metadata": {},
   "outputs": [
    {
     "data": {
      "text/plain": [
       "(1, 2, 3)"
      ]
     },
     "execution_count": 63,
     "metadata": {},
     "output_type": "execute_result"
    }
   ],
   "source": [
    "t[:3]"
   ]
  },
  {
   "cell_type": "code",
   "execution_count": 64,
   "id": "52b7e309",
   "metadata": {},
   "outputs": [
    {
     "ename": "TypeError",
     "evalue": "'tuple' object does not support item assignment",
     "output_type": "error",
     "traceback": [
      "\u001b[0;31m---------------------------------------------------------------------------\u001b[0m",
      "\u001b[0;31mTypeError\u001b[0m                                 Traceback (most recent call last)",
      "Cell \u001b[0;32mIn[64], line 1\u001b[0m\n\u001b[0;32m----> 1\u001b[0m \u001b[43mt\u001b[49m\u001b[43m[\u001b[49m\u001b[38;5;241;43m3\u001b[39;49m\u001b[43m]\u001b[49m \u001b[38;5;241m=\u001b[39m \u001b[38;5;241m10\u001b[39m\n",
      "\u001b[0;31mTypeError\u001b[0m: 'tuple' object does not support item assignment"
     ]
    }
   ],
   "source": [
    "t[3] = 10"
   ]
  },
  {
   "cell_type": "code",
   "execution_count": 65,
   "id": "0f081a3e",
   "metadata": {},
   "outputs": [
    {
     "ename": "TypeError",
     "evalue": "'tuple' object does not support item assignment",
     "output_type": "error",
     "traceback": [
      "\u001b[0;31m---------------------------------------------------------------------------\u001b[0m",
      "\u001b[0;31mTypeError\u001b[0m                                 Traceback (most recent call last)",
      "Cell \u001b[0;32mIn[65], line 1\u001b[0m\n\u001b[0;32m----> 1\u001b[0m \u001b[43mt\u001b[49m\u001b[43m[\u001b[49m\u001b[43m:\u001b[49m\u001b[38;5;241;43m3\u001b[39;49m\u001b[43m]\u001b[49m \u001b[38;5;241m=\u001b[39m (\u001b[38;5;241m2\u001b[39m,\u001b[38;5;241m6\u001b[39m,\u001b[38;5;241m10\u001b[39m)\n",
      "\u001b[0;31mTypeError\u001b[0m: 'tuple' object does not support item assignment"
     ]
    }
   ],
   "source": [
    "t[:3] = (2,6,10)"
   ]
  },
  {
   "cell_type": "code",
   "execution_count": 67,
   "id": "55191996",
   "metadata": {},
   "outputs": [
    {
     "data": {
      "text/plain": [
       "('Lorenzo', 30, True)"
      ]
     },
     "execution_count": 67,
     "metadata": {},
     "output_type": "execute_result"
    }
   ],
   "source": [
    "t = (\"Lorenzo\" , 30 , True)\n",
    "t"
   ]
  },
  {
   "cell_type": "code",
   "execution_count": 70,
   "id": "9dd701bd",
   "metadata": {},
   "outputs": [
    {
     "name": "stdout",
     "output_type": "stream",
     "text": [
      "(('italiano', 7), ('greco', 4), ('matematica', 10))\n"
     ]
    }
   ],
   "source": [
    "subjects_vote = ((\"italiano\", 7), (\"greco\", 4), (\"matematica\", 10))\n",
    "print(subjects_vote)"
   ]
  },
  {
   "cell_type": "code",
   "execution_count": 72,
   "id": "6141d75e",
   "metadata": {},
   "outputs": [
    {
     "data": {
      "text/plain": [
       "7"
      ]
     },
     "execution_count": 72,
     "metadata": {},
     "output_type": "execute_result"
    }
   ],
   "source": [
    "subjects_vote[0][1]"
   ]
  },
  {
   "cell_type": "code",
   "execution_count": 73,
   "id": "27a7aea8",
   "metadata": {},
   "outputs": [
    {
     "name": "stdout",
     "output_type": "stream",
     "text": [
      "[('italiano', 7), ('greco', 4), ('matematica', 10)]\n"
     ]
    }
   ],
   "source": [
    "subjects_vote = [(\"italiano\", 7), (\"greco\", 4), (\"matematica\", 10)]  #Lista di Tuple\n",
    "\n",
    "print(subjects_vote)"
   ]
  },
  {
   "cell_type": "code",
   "execution_count": 74,
   "id": "26242e36",
   "metadata": {},
   "outputs": [
    {
     "data": {
      "text/plain": [
       "7"
      ]
     },
     "execution_count": 74,
     "metadata": {},
     "output_type": "execute_result"
    }
   ],
   "source": [
    "subjects_vote[0][1]"
   ]
  },
  {
   "cell_type": "code",
   "execution_count": 75,
   "id": "6597942c",
   "metadata": {},
   "outputs": [],
   "source": [
    "subjects_vote.append((\"inglese\", 6))"
   ]
  },
  {
   "cell_type": "code",
   "execution_count": 76,
   "id": "496b7a61",
   "metadata": {},
   "outputs": [
    {
     "data": {
      "text/plain": [
       "[('italiano', 7), ('greco', 4), ('matematica', 10), ('inglese', 6)]"
      ]
     },
     "execution_count": 76,
     "metadata": {},
     "output_type": "execute_result"
    }
   ],
   "source": [
    "subjects_vote"
   ]
  },
  {
   "cell_type": "code",
   "execution_count": 78,
   "id": "ff1e04a4",
   "metadata": {},
   "outputs": [
    {
     "ename": "AttributeError",
     "evalue": "'tuple' object has no attribute 'append'",
     "output_type": "error",
     "traceback": [
      "\u001b[0;31m---------------------------------------------------------------------------\u001b[0m",
      "\u001b[0;31mAttributeError\u001b[0m                            Traceback (most recent call last)",
      "Cell \u001b[0;32mIn[78], line 2\u001b[0m\n\u001b[1;32m      1\u001b[0m t \u001b[38;5;241m=\u001b[39m (\u001b[38;5;241m1\u001b[39m, \u001b[38;5;241m2\u001b[39m ,\u001b[38;5;241m3\u001b[39m ,\u001b[38;5;241m5\u001b[39m ,\u001b[38;5;241m8\u001b[39m ,\u001b[38;5;241m13\u001b[39m ,\u001b[38;5;241m21\u001b[39m)\n\u001b[0;32m----> 2\u001b[0m \u001b[43mt\u001b[49m\u001b[38;5;241;43m.\u001b[39;49m\u001b[43mappend\u001b[49m(\u001b[38;5;241m34\u001b[39m)\n",
      "\u001b[0;31mAttributeError\u001b[0m: 'tuple' object has no attribute 'append'"
     ]
    }
   ],
   "source": [
    "t = (1, 2 ,3 ,5 ,8 ,13 ,21)\n",
    "t.append(34)"
   ]
  },
  {
   "cell_type": "code",
   "execution_count": 79,
   "id": "9097214b",
   "metadata": {},
   "outputs": [
    {
     "data": {
      "text/plain": [
       "1"
      ]
     },
     "execution_count": 79,
     "metadata": {},
     "output_type": "execute_result"
    }
   ],
   "source": [
    "t.count(5)"
   ]
  },
  {
   "cell_type": "code",
   "execution_count": 81,
   "id": "b8f62768",
   "metadata": {},
   "outputs": [
    {
     "data": {
      "text/plain": [
       "3"
      ]
     },
     "execution_count": 81,
     "metadata": {},
     "output_type": "execute_result"
    }
   ],
   "source": [
    "t.index(5)"
   ]
  },
  {
   "cell_type": "code",
   "execution_count": 82,
   "id": "64465f3a",
   "metadata": {},
   "outputs": [
    {
     "data": {
      "text/plain": [
       "True"
      ]
     },
     "execution_count": 82,
     "metadata": {},
     "output_type": "execute_result"
    }
   ],
   "source": [
    "5 in t"
   ]
  },
  {
   "cell_type": "code",
   "execution_count": 83,
   "id": "4264b860",
   "metadata": {},
   "outputs": [
    {
     "data": {
      "text/plain": [
       "False"
      ]
     },
     "execution_count": 83,
     "metadata": {},
     "output_type": "execute_result"
    }
   ],
   "source": [
    "10 in t"
   ]
  },
  {
   "cell_type": "code",
   "execution_count": 87,
   "id": "cd3b9b3e",
   "metadata": {},
   "outputs": [
    {
     "data": {
      "text/plain": [
       "'Ciao mondo'"
      ]
     },
     "execution_count": 87,
     "metadata": {},
     "output_type": "execute_result"
    }
   ],
   "source": [
    "s = \"Ciao mondo\"  # Le stringhe sono immutabili come le tuple\n",
    "s"
   ]
  },
  {
   "cell_type": "code",
   "execution_count": 85,
   "id": "c12a7e9c",
   "metadata": {},
   "outputs": [
    {
     "data": {
      "text/plain": [
       "'C'"
      ]
     },
     "execution_count": 85,
     "metadata": {},
     "output_type": "execute_result"
    }
   ],
   "source": [
    "s[0]"
   ]
  },
  {
   "cell_type": "code",
   "execution_count": 86,
   "id": "b3fc6301",
   "metadata": {},
   "outputs": [
    {
     "ename": "TypeError",
     "evalue": "'str' object does not support item assignment",
     "output_type": "error",
     "traceback": [
      "\u001b[0;31m---------------------------------------------------------------------------\u001b[0m",
      "\u001b[0;31mTypeError\u001b[0m                                 Traceback (most recent call last)",
      "Cell \u001b[0;32mIn[86], line 1\u001b[0m\n\u001b[0;32m----> 1\u001b[0m \u001b[43ms\u001b[49m\u001b[43m[\u001b[49m\u001b[38;5;241;43m0\u001b[39;49m\u001b[43m]\u001b[49m \u001b[38;5;241m=\u001b[39m \u001b[38;5;124m\"\u001b[39m\u001b[38;5;124mM\u001b[39m\u001b[38;5;124m\"\u001b[39m\n",
      "\u001b[0;31mTypeError\u001b[0m: 'str' object does not support item assignment"
     ]
    }
   ],
   "source": [
    "s[0] = \"M\""
   ]
  },
  {
   "cell_type": "markdown",
   "id": "329fb9b8",
   "metadata": {},
   "source": [
    "# Set\n"
   ]
  },
  {
   "cell_type": "code",
   "execution_count": 88,
   "id": "4dd957d2",
   "metadata": {},
   "outputs": [
    {
     "data": {
      "text/plain": [
       "set"
      ]
     },
     "execution_count": 88,
     "metadata": {},
     "output_type": "execute_result"
    }
   ],
   "source": [
    "s = {30, 15, 20, 30, 5, 90, 15}\n",
    "type(s)"
   ]
  },
  {
   "cell_type": "code",
   "execution_count": 89,
   "id": "f2d7a6e1",
   "metadata": {},
   "outputs": [
    {
     "data": {
      "text/plain": [
       "{5, 15, 20, 30, 90}"
      ]
     },
     "execution_count": 89,
     "metadata": {},
     "output_type": "execute_result"
    }
   ],
   "source": [
    "s"
   ]
  },
  {
   "cell_type": "code",
   "execution_count": 91,
   "id": "63177c6a",
   "metadata": {},
   "outputs": [
    {
     "data": {
      "text/plain": [
       "{'filosofia', 'geografia', 'italiano', 'matematica', 'storia'}"
      ]
     },
     "execution_count": 91,
     "metadata": {},
     "output_type": "execute_result"
    }
   ],
   "source": [
    "subjects_set = {\"italiano\", \"storia\", \"matematica\", \"matematica\", \"geografia\", \"filosofia\"}\n",
    "\n",
    "subjects_set\n"
   ]
  },
  {
   "cell_type": "code",
   "execution_count": 93,
   "id": "8658b389",
   "metadata": {},
   "outputs": [
    {
     "ename": "TypeError",
     "evalue": "'set' object is not subscriptable",
     "output_type": "error",
     "traceback": [
      "\u001b[0;31m---------------------------------------------------------------------------\u001b[0m",
      "\u001b[0;31mTypeError\u001b[0m                                 Traceback (most recent call last)",
      "Cell \u001b[0;32mIn[93], line 1\u001b[0m\n\u001b[0;32m----> 1\u001b[0m \u001b[43msubjects_set\u001b[49m\u001b[43m[\u001b[49m\u001b[38;5;241;43m0\u001b[39;49m\u001b[43m]\u001b[49m\n",
      "\u001b[0;31mTypeError\u001b[0m: 'set' object is not subscriptable"
     ]
    }
   ],
   "source": [
    "subjects_set[0]"
   ]
  },
  {
   "cell_type": "code",
   "execution_count": 96,
   "id": "189c70b4",
   "metadata": {},
   "outputs": [
    {
     "name": "stdout",
     "output_type": "stream",
     "text": [
      "storia {'matematica', 'filosofia'}\n"
     ]
    }
   ],
   "source": [
    "subject = subjects_set.pop()\n",
    "print(subject, subjects_set)"
   ]
  },
  {
   "cell_type": "code",
   "execution_count": 97,
   "id": "60ec4486",
   "metadata": {},
   "outputs": [
    {
     "data": {
      "text/plain": [
       "{'chimica', 'filosofia', 'matematica'}"
      ]
     },
     "execution_count": 97,
     "metadata": {},
     "output_type": "execute_result"
    }
   ],
   "source": [
    "subjects_set.add(\"chimica\")\n",
    "subjects_set"
   ]
  },
  {
   "cell_type": "code",
   "execution_count": 98,
   "id": "fbc57195",
   "metadata": {},
   "outputs": [],
   "source": [
    "subjects_set.add(\"storia\")"
   ]
  },
  {
   "cell_type": "code",
   "execution_count": 99,
   "id": "25c2a12d",
   "metadata": {},
   "outputs": [
    {
     "ename": "KeyError",
     "evalue": "'geografia'",
     "output_type": "error",
     "traceback": [
      "\u001b[0;31m---------------------------------------------------------------------------\u001b[0m",
      "\u001b[0;31mKeyError\u001b[0m                                  Traceback (most recent call last)",
      "Cell \u001b[0;32mIn[99], line 1\u001b[0m\n\u001b[0;32m----> 1\u001b[0m \u001b[43msubjects_set\u001b[49m\u001b[38;5;241;43m.\u001b[39;49m\u001b[43mremove\u001b[49m\u001b[43m(\u001b[49m\u001b[38;5;124;43m\"\u001b[39;49m\u001b[38;5;124;43mgeografia\u001b[39;49m\u001b[38;5;124;43m\"\u001b[39;49m\u001b[43m)\u001b[49m\n",
      "\u001b[0;31mKeyError\u001b[0m: 'geografia'"
     ]
    }
   ],
   "source": [
    "subjects_set.remove(\"geografia\")"
   ]
  },
  {
   "cell_type": "code",
   "execution_count": 101,
   "id": "b858de1a",
   "metadata": {},
   "outputs": [],
   "source": [
    "subjects_set.discard(\"arte\")"
   ]
  },
  {
   "cell_type": "code",
   "execution_count": 103,
   "id": "8a0667a2",
   "metadata": {},
   "outputs": [],
   "source": [
    "subjects_set.clear()\n",
    "subjects_set = {}\n"
   ]
  },
  {
   "cell_type": "code",
   "execution_count": 104,
   "id": "560550a2",
   "metadata": {},
   "outputs": [
    {
     "name": "stdout",
     "output_type": "stream",
     "text": [
      "<class 'frozenset'> frozenset({'italiano', 'matematica', 'inglese'})\n"
     ]
    }
   ],
   "source": [
    "subjects_frozen = frozenset({\"italiano\" , \"matematica\", \"inglese\"})\n",
    "print(type(subjects_frozen),subjects_frozen)"
   ]
  },
  {
   "cell_type": "code",
   "execution_count": 105,
   "id": "584ca50d",
   "metadata": {},
   "outputs": [
    {
     "ename": "AttributeError",
     "evalue": "'frozenset' object has no attribute 'add'",
     "output_type": "error",
     "traceback": [
      "\u001b[0;31m---------------------------------------------------------------------------\u001b[0m",
      "\u001b[0;31mAttributeError\u001b[0m                            Traceback (most recent call last)",
      "Cell \u001b[0;32mIn[105], line 1\u001b[0m\n\u001b[0;32m----> 1\u001b[0m \u001b[43msubjects_frozen\u001b[49m\u001b[38;5;241;43m.\u001b[39;49m\u001b[43madd\u001b[49m(\u001b[38;5;124m\"\u001b[39m\u001b[38;5;124mstoria\u001b[39m\u001b[38;5;124m\"\u001b[39m)\n",
      "\u001b[0;31mAttributeError\u001b[0m: 'frozenset' object has no attribute 'add'"
     ]
    }
   ],
   "source": [
    "subjects_frozen.add(\"storia\")"
   ]
  },
  {
   "cell_type": "markdown",
   "id": "a659fea2",
   "metadata": {},
   "source": [
    "# I Dizionari"
   ]
  },
  {
   "cell_type": "code",
   "execution_count": 2,
   "id": "3baf2de1",
   "metadata": {},
   "outputs": [
    {
     "data": {
      "text/plain": [
       "dict"
      ]
     },
     "execution_count": 2,
     "metadata": {},
     "output_type": "execute_result"
    }
   ],
   "source": [
    "report = {\"italiano\":7, \"latino\":6, \"filosofia\":4, \"matematica\":9}\n",
    "type(report)"
   ]
  },
  {
   "cell_type": "code",
   "execution_count": 4,
   "id": "9a90998d",
   "metadata": {},
   "outputs": [
    {
     "data": {
      "text/plain": [
       "6"
      ]
     },
     "execution_count": 4,
     "metadata": {},
     "output_type": "execute_result"
    }
   ],
   "source": [
    "report[\"latino\"] "
   ]
  },
  {
   "cell_type": "code",
   "execution_count": 3,
   "id": "495e807a",
   "metadata": {},
   "outputs": [
    {
     "data": {
      "text/plain": [
       "4"
      ]
     },
     "execution_count": 3,
     "metadata": {},
     "output_type": "execute_result"
    }
   ],
   "source": [
    "report[\"filosofia\"]"
   ]
  },
  {
   "cell_type": "code",
   "execution_count": 5,
   "id": "a2af981a",
   "metadata": {},
   "outputs": [],
   "source": [
    "report[\"latino\"] = 5"
   ]
  },
  {
   "cell_type": "code",
   "execution_count": 6,
   "id": "bcfb1902",
   "metadata": {},
   "outputs": [
    {
     "data": {
      "text/plain": [
       "{'italiano': 7, 'latino': 5, 'filosofia': 4, 'matematica': 9}"
      ]
     },
     "execution_count": 6,
     "metadata": {},
     "output_type": "execute_result"
    }
   ],
   "source": [
    "report\n"
   ]
  },
  {
   "cell_type": "code",
   "execution_count": 8,
   "id": "d9de7762",
   "metadata": {},
   "outputs": [],
   "source": [
    "report[\"storia\"] = 6"
   ]
  },
  {
   "cell_type": "code",
   "execution_count": 9,
   "id": "da564b12",
   "metadata": {},
   "outputs": [],
   "source": [
    "report[\"inglese\"] = {\"grammatica\":7,\"letteratura\":6}"
   ]
  },
  {
   "cell_type": "code",
   "execution_count": 10,
   "id": "8190af1a",
   "metadata": {},
   "outputs": [
    {
     "data": {
      "text/plain": [
       "{'italiano': 7,\n",
       " 'latino': 5,\n",
       " 'filosofia': 4,\n",
       " 'matematica': 9,\n",
       " 'storia': 6,\n",
       " 'inglese': {'grammatica': 7, 'letteratura': 6}}"
      ]
     },
     "execution_count": 10,
     "metadata": {},
     "output_type": "execute_result"
    }
   ],
   "source": [
    "report"
   ]
  },
  {
   "cell_type": "code",
   "execution_count": 11,
   "id": "cf7b9467",
   "metadata": {},
   "outputs": [
    {
     "data": {
      "text/plain": [
       "dict_values([7, 5, 4, 9, 6, {'grammatica': 7, 'letteratura': 6}])"
      ]
     },
     "execution_count": 11,
     "metadata": {},
     "output_type": "execute_result"
    }
   ],
   "source": [
    "report.values()"
   ]
  },
  {
   "cell_type": "code",
   "execution_count": 12,
   "id": "1dd11845",
   "metadata": {},
   "outputs": [
    {
     "data": {
      "text/plain": [
       "[7, 5, 4, 9, 6, {'grammatica': 7, 'letteratura': 6}]"
      ]
     },
     "execution_count": 12,
     "metadata": {},
     "output_type": "execute_result"
    }
   ],
   "source": [
    "list(report.values())"
   ]
  },
  {
   "cell_type": "code",
   "execution_count": 13,
   "id": "76e4b363",
   "metadata": {},
   "outputs": [
    {
     "data": {
      "text/plain": [
       "dict_keys(['italiano', 'latino', 'filosofia', 'matematica', 'storia', 'inglese'])"
      ]
     },
     "execution_count": 13,
     "metadata": {},
     "output_type": "execute_result"
    }
   ],
   "source": [
    "report.keys()"
   ]
  },
  {
   "cell_type": "code",
   "execution_count": 14,
   "id": "147eaf50",
   "metadata": {},
   "outputs": [
    {
     "data": {
      "text/plain": [
       "['italiano', 'latino', 'filosofia', 'matematica', 'storia', 'inglese']"
      ]
     },
     "execution_count": 14,
     "metadata": {},
     "output_type": "execute_result"
    }
   ],
   "source": [
    "list(report.keys())"
   ]
  },
  {
   "cell_type": "markdown",
   "id": "9982c479",
   "metadata": {},
   "source": [
    "# Lunghezza di una collezione"
   ]
  },
  {
   "cell_type": "code",
   "execution_count": 15,
   "id": "375bd203",
   "metadata": {},
   "outputs": [
    {
     "data": {
      "text/plain": [
       "[1, 2, 3, 4, 5]"
      ]
     },
     "execution_count": 15,
     "metadata": {},
     "output_type": "execute_result"
    }
   ],
   "source": [
    "l = [1,2,3,4,5]\n",
    "l"
   ]
  },
  {
   "cell_type": "code",
   "execution_count": 17,
   "id": "bd4c9d6c",
   "metadata": {},
   "outputs": [
    {
     "data": {
      "text/plain": [
       "5"
      ]
     },
     "execution_count": 17,
     "metadata": {},
     "output_type": "execute_result"
    }
   ],
   "source": [
    "l_len = len(l)\n",
    "l_len"
   ]
  },
  {
   "cell_type": "code",
   "execution_count": 18,
   "id": "9a27e91d",
   "metadata": {},
   "outputs": [
    {
     "data": {
      "text/plain": [
       "('Lorenzo', 1.78, 73)"
      ]
     },
     "execution_count": 18,
     "metadata": {},
     "output_type": "execute_result"
    }
   ],
   "source": [
    "t = (\"Lorenzo\", 1.78, 73)\n",
    "t"
   ]
  },
  {
   "cell_type": "code",
   "execution_count": 20,
   "id": "df33d56e",
   "metadata": {},
   "outputs": [
    {
     "data": {
      "text/plain": [
       "3"
      ]
     },
     "execution_count": 20,
     "metadata": {},
     "output_type": "execute_result"
    }
   ],
   "source": [
    "len(t)"
   ]
  },
  {
   "cell_type": "code",
   "execution_count": 21,
   "id": "250bbf72",
   "metadata": {},
   "outputs": [
    {
     "data": {
      "text/plain": [
       "4"
      ]
     },
     "execution_count": 21,
     "metadata": {},
     "output_type": "execute_result"
    }
   ],
   "source": [
    "s = {\"Giuseppe\", \"Lorenzo\", \"Andrea\", \"Luca\"}\n",
    "len(s)"
   ]
  },
  {
   "cell_type": "code",
   "execution_count": 22,
   "id": "f34e124b",
   "metadata": {},
   "outputs": [
    {
     "data": {
      "text/plain": [
       "3"
      ]
     },
     "execution_count": 22,
     "metadata": {},
     "output_type": "execute_result"
    }
   ],
   "source": [
    "d = {\"pasta\":1, \"uova\":5, \"panna\":1}\n",
    "len(d)"
   ]
  },
  {
   "cell_type": "code",
   "execution_count": 23,
   "id": "2d52ba4d",
   "metadata": {},
   "outputs": [
    {
     "data": {
      "text/plain": [
       "{'pasta': 1, 'uova': 5, 'panna': 1, 'cereali': 2}"
      ]
     },
     "execution_count": 23,
     "metadata": {},
     "output_type": "execute_result"
    }
   ],
   "source": [
    "d[\"cereali\"] = 2\n",
    "d\n"
   ]
  },
  {
   "cell_type": "code",
   "execution_count": 24,
   "id": "d2b53772",
   "metadata": {},
   "outputs": [
    {
     "ename": "IndexError",
     "evalue": "list assignment index out of range",
     "output_type": "error",
     "traceback": [
      "\u001b[0;31m---------------------------------------------------------------------------\u001b[0m",
      "\u001b[0;31mIndexError\u001b[0m                                Traceback (most recent call last)",
      "Cell \u001b[0;32mIn[24], line 2\u001b[0m\n\u001b[1;32m      1\u001b[0m l \u001b[38;5;241m=\u001b[39m [\u001b[38;5;241m1\u001b[39m,\u001b[38;5;241m2\u001b[39m,\u001b[38;5;241m3\u001b[39m,\u001b[38;5;241m4\u001b[39m,\u001b[38;5;241m5\u001b[39m]\n\u001b[0;32m----> 2\u001b[0m \u001b[43ml\u001b[49m\u001b[43m[\u001b[49m\u001b[38;5;241;43m5\u001b[39;49m\u001b[43m]\u001b[49m \u001b[38;5;241m=\u001b[39m \u001b[38;5;241m6\u001b[39m \u001b[38;5;66;03m#genera un errore\u001b[39;00m\n",
      "\u001b[0;31mIndexError\u001b[0m: list assignment index out of range"
     ]
    }
   ],
   "source": [
    "l = [1,2,3,4,5]\n",
    "l[5] = 6 #genera un errore si deve usare append"
   ]
  },
  {
   "cell_type": "markdown",
   "id": "015dabed",
   "metadata": {},
   "source": [
    "# Casting tra collezioni"
   ]
  },
  {
   "cell_type": "code",
   "execution_count": 25,
   "id": "8dc5cc55",
   "metadata": {},
   "outputs": [],
   "source": [
    "names_list = [\"Giuseppe\", \"Carlo\", \"Nicola\", \"Giuseppe\", \"Carlo\", \"Antonio\"]"
   ]
  },
  {
   "cell_type": "code",
   "execution_count": 26,
   "id": "4d086122",
   "metadata": {},
   "outputs": [
    {
     "name": "stdout",
     "output_type": "stream",
     "text": [
      "['Giuseppe', 'Carlo', 'Nicola', 'Giuseppe', 'Carlo', 'Antonio']\n"
     ]
    }
   ],
   "source": [
    "print(names_list)"
   ]
  },
  {
   "cell_type": "code",
   "execution_count": 27,
   "id": "e5eefb84",
   "metadata": {},
   "outputs": [],
   "source": [
    "names_tuple = tuple(names_list)"
   ]
  },
  {
   "cell_type": "code",
   "execution_count": 28,
   "id": "8c79283e",
   "metadata": {},
   "outputs": [
    {
     "ename": "TypeError",
     "evalue": "'tuple' object does not support item assignment",
     "output_type": "error",
     "traceback": [
      "\u001b[0;31m---------------------------------------------------------------------------\u001b[0m",
      "\u001b[0;31mTypeError\u001b[0m                                 Traceback (most recent call last)",
      "Cell \u001b[0;32mIn[28], line 1\u001b[0m\n\u001b[0;32m----> 1\u001b[0m \u001b[43mnames_tuple\u001b[49m\u001b[43m[\u001b[49m\u001b[38;5;241;43m0\u001b[39;49m\u001b[43m]\u001b[49m \u001b[38;5;241m=\u001b[39m \u001b[38;5;124m\"\u001b[39m\u001b[38;5;124mFederico\u001b[39m\u001b[38;5;124m\"\u001b[39m\n",
      "\u001b[0;31mTypeError\u001b[0m: 'tuple' object does not support item assignment"
     ]
    }
   ],
   "source": [
    "names_tuple[0] = \"Federico\""
   ]
  },
  {
   "cell_type": "code",
   "execution_count": 29,
   "id": "7b7f4093",
   "metadata": {},
   "outputs": [
    {
     "data": {
      "text/plain": [
       "{'Antonio', 'Carlo', 'Giuseppe', 'Nicola'}"
      ]
     },
     "execution_count": 29,
     "metadata": {},
     "output_type": "execute_result"
    }
   ],
   "source": [
    "names_set = set(names_tuple)\n",
    "names_set"
   ]
  },
  {
   "cell_type": "code",
   "execution_count": 32,
   "id": "fce3ab2a",
   "metadata": {},
   "outputs": [],
   "source": [
    "names_age = ((\"Giuseppe\",30),(\"Antonio\",27),(\"Nicola\",24))"
   ]
  },
  {
   "cell_type": "code",
   "execution_count": 33,
   "id": "10e9b0df",
   "metadata": {},
   "outputs": [
    {
     "data": {
      "text/plain": [
       "{'Giuseppe': 30, 'Antonio': 27, 'Nicola': 24}"
      ]
     },
     "execution_count": 33,
     "metadata": {},
     "output_type": "execute_result"
    }
   ],
   "source": [
    "people_dict = dict(names_age)\n",
    "people_dict"
   ]
  },
  {
   "cell_type": "code",
   "execution_count": 37,
   "id": "39404b0c",
   "metadata": {},
   "outputs": [
    {
     "data": {
      "text/plain": [
       "{'Giuseppe': 30, 'Antonio': 27, 'Nicola': 24}"
      ]
     },
     "execution_count": 37,
     "metadata": {},
     "output_type": "execute_result"
    }
   ],
   "source": [
    "names = [\"Giuseppe\", \"Antonio\", \"Nicola\"]\n",
    "ages = [30, 27, 24]\n",
    "names_age = zip(names, ages)\n",
    "people_dict = dict(names_age)\n",
    "people_dict"
   ]
  },
  {
   "cell_type": "code",
   "execution_count": 36,
   "id": "e170dbbb",
   "metadata": {},
   "outputs": [
    {
     "data": {
      "text/plain": [
       "(('Giuseppe', 30), ('Antonio', 27), ('Nicola', 24))"
      ]
     },
     "execution_count": 36,
     "metadata": {},
     "output_type": "execute_result"
    }
   ],
   "source": [
    "tuple(names_age)"
   ]
  },
  {
   "cell_type": "markdown",
   "id": "d99df63e",
   "metadata": {},
   "source": [
    "# Copia vs Riferimento"
   ]
  },
  {
   "cell_type": "code",
   "execution_count": 39,
   "id": "4ad8d973",
   "metadata": {},
   "outputs": [
    {
     "data": {
      "text/plain": [
       "['cane', 'tigre', 'topo']"
      ]
     },
     "execution_count": 39,
     "metadata": {},
     "output_type": "execute_result"
    }
   ],
   "source": [
    "l1 = [\"cane\", \"gatto\", \"topo\"]\n",
    "l2 = l1   # riferimento\n",
    "l2[1] = \"tigre\"\n",
    "l2"
   ]
  },
  {
   "cell_type": "code",
   "execution_count": 40,
   "id": "d7266a19",
   "metadata": {},
   "outputs": [
    {
     "data": {
      "text/plain": [
       "['cane', 'tigre', 'topo']"
      ]
     },
     "execution_count": 40,
     "metadata": {},
     "output_type": "execute_result"
    }
   ],
   "source": [
    "l1"
   ]
  },
  {
   "cell_type": "code",
   "execution_count": 46,
   "id": "dca98927",
   "metadata": {},
   "outputs": [
    {
     "data": {
      "text/plain": [
       "False"
      ]
     },
     "execution_count": 46,
     "metadata": {},
     "output_type": "execute_result"
    }
   ],
   "source": [
    "id(l1) == id(l2)"
   ]
  },
  {
   "cell_type": "code",
   "execution_count": 43,
   "id": "cc376619",
   "metadata": {},
   "outputs": [
    {
     "data": {
      "text/plain": [
       "['cane', 'tigre', 'topo']"
      ]
     },
     "execution_count": 43,
     "metadata": {},
     "output_type": "execute_result"
    }
   ],
   "source": [
    "l1 = [\"cane\", \"gatto\", \"topo\"]\n",
    "l2 = [\"cane\", \"gatto\", \"topo\"]\n",
    "l2[1] = \"tigre\"\n",
    "l2"
   ]
  },
  {
   "cell_type": "code",
   "execution_count": 45,
   "id": "3682f669",
   "metadata": {},
   "outputs": [
    {
     "data": {
      "text/plain": [
       "['cane', 'tigre', 'topo']"
      ]
     },
     "execution_count": 45,
     "metadata": {},
     "output_type": "execute_result"
    }
   ],
   "source": [
    "l1 = [\"cane\", \"gatto\", \"topo\"]\n",
    "l2 = l1.copy()   # shallow copy\n",
    "l2[1] = \"tigre\"\n",
    "l2"
   ]
  }
 ],
 "metadata": {
  "kernelspec": {
   "display_name": "Python 3 (ipykernel)",
   "language": "python",
   "name": "python3"
  },
  "language_info": {
   "codemirror_mode": {
    "name": "ipython",
    "version": 3
   },
   "file_extension": ".py",
   "mimetype": "text/x-python",
   "name": "python",
   "nbconvert_exporter": "python",
   "pygments_lexer": "ipython3",
   "version": "3.12.3"
  }
 },
 "nbformat": 4,
 "nbformat_minor": 5
}
